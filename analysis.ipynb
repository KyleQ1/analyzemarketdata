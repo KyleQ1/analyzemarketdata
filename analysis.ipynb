{
 "cells": [
  {
   "cell_type": "code",
   "execution_count": null,
   "metadata": {
    "vscode": {
     "languageId": "plaintext"
    }
   },
   "outputs": [],
   "source": [
    "import pandas as pd\n",
    "import matplotlib.pyplot as plt\n",
    "from statsmodels.tsa.stattools import grangercausalitytests\n",
    "import numpy as np"
   ]
  },
  {
   "cell_type": "code",
   "execution_count": null,
   "metadata": {
    "vscode": {
     "languageId": "plaintext"
    }
   },
   "outputs": [],
   "source": [
    "# Load preprocessed NASDAQ news data and stock price history\n",
    "news_file = \"nasdaq_data_preprocessed/nasdaq_external_data.parquet\"\n",
    "stock_file = \"full_history_preprocessed/sample_stock.parquet\"  # example for one company\n",
    "\n",
    "news_df = pd.read_parquet(news_file)\n",
    "stock_df = pd.read_parquet(stock_file)\n",
    "\n",
    "# Ensure the 'Date' column is in datetime format and set it as index\n",
    "news_df['Date'] = pd.to_datetime(news_df['Date'])\n",
    "stock_df['Date'] = pd.to_datetime(stock_df['Date'])\n",
    "\n",
    "news_df.set_index('Date', inplace=True)\n",
    "stock_df.set_index('Date', inplace=True)"
   ]
  },
  {
   "cell_type": "code",
   "execution_count": null,
   "metadata": {
    "vscode": {
     "languageId": "plaintext"
    }
   },
   "outputs": [],
   "source": []
  }
 ],
 "metadata": {
  "language_info": {
   "name": "python"
  }
 },
 "nbformat": 4,
 "nbformat_minor": 2
}
