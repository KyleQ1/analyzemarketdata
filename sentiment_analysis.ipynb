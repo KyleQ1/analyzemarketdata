{
 "cells": [
  {
   "cell_type": "markdown",
   "metadata": {},
   "source": [
    "# Sentiment Analysis\n",
    "Sentiment analysis in the python file was not fast enough so now we are going to use the google cloud api and hope it works better. Currently need to get setup an account with google cloud with $300 credit, then turn on billing and add the nlp service. Follow these steps to use (NLP)[https://cloud.google.com/python/docs/reference/language/latest]. I then follow authentication on google api core which requires to install google cloud sdk for some reason. "
   ]
  },
  {
   "cell_type": "code",
   "execution_count": 9,
   "metadata": {},
   "outputs": [],
   "source": [
    "import numpy as np\n",
    "import time\n",
    "from google.cloud.language_v2 import types\n",
    "from google.cloud import language_v2\n",
    "import polars as pl\n",
    "import os\n",
    "import re\n",
    "import string\n",
    "from nltk.corpus import stopwords\n",
    "from nltk.tokenize import RegexpTokenizer\n",
    "import seaborn as sns\n",
    "import matplotlib.pyplot as plt\n",
    "from google.auth import compute_engine\n",
    "\n",
    "credentials = compute_engine.Credentials()"
   ]
  },
  {
   "cell_type": "code",
   "execution_count": 11,
   "metadata": {},
   "outputs": [
    {
     "name": "stderr",
     "output_type": "stream",
     "text": [
      "C:\\Users\\Kyle\\AppData\\Roaming\\Python\\Python312\\site-packages\\google\\auth\\_default.py:76: UserWarning: Your application has authenticated using end user credentials from Google Cloud SDK without a quota project. You might receive a \"quota exceeded\" or \"API not enabled\" error. See the following page for troubleshooting: https://cloud.google.com/docs/authentication/adc-troubleshooting/user-creds. \n",
      "  warnings.warn(_CLOUD_SDK_CREDENTIALS_WARNING)\n"
     ]
    }
   ],
   "source": [
    "client = language_v2.LanguageServiceClient()\n",
    "\n",
    "# Available types: PLAIN_TEXT, HTML\n",
    "document_type_in_plain_text = language_v2.Document.Type.PLAIN_TEXT\n",
    "language_code = \"en\"\n",
    "encoding_type = language_v2.EncodingType.UTF8\n",
    "\n",
    "def sentimentanalysis(text_content):\n",
    "    document = {\n",
    "        \"content\": text_content,\n",
    "        \"type_\": document_type_in_plain_text,\n",
    "        \"language_code\": language_code,\n",
    "    }\n",
    "\n",
    "    response = client.analyze_sentiment(\n",
    "            request={\"document\": document, \"encoding_type\": encoding_type}\n",
    "        )\n",
    "\n",
    "    # Get overall sentiment of the input document\n",
    "    print(f\"Document sentiment score: {response.document_sentiment.score}\")\n",
    "    print(f\"Document sentiment magnitude: {response.document_sentiment.magnitude}\")\n",
    "    return response.document_sentiment.score, response.document_sentiment.magnitude"
   ]
  },
  {
   "cell_type": "code",
   "execution_count": null,
   "metadata": {},
   "outputs": [],
   "source": [
    "news_data = pl.read_parquet('news_data_preprocessed/nasdaq_external_data.parquet')\n",
    "sentiment_scores = []\n",
    "sentiment_magnitudes = []\n",
    "\n",
    "for row in news_data.iter_rows():\n",
    "    article = row[news_data.columns.index('Article')]\n",
    "    if isinstance(article, str) and len(article.strip()) > 0:\n",
    "        try:\n",
    "            sentiment_score, sentiment_magnitude = sentimentanalysis(article)\n",
    "        except Exception as e:\n",
    "            print(f\"Error processing article: {e}\")\n",
    "            sentiment_score, sentiment_magnitude = None, None\n",
    "    \n",
    "sentiment_scores.append(sentiment_score)\n",
    "sentiment_magnitudes.append(sentiment_magnitude)\n",
    "\n",
    "sentiment_df = pl.DataFrame({\n",
    "    'Date': news_data['Date'],\n",
    "    'Title': news_data['Title'],\n",
    "    'Article': news_data['Article'],\n",
    "    'Sentiment_Score': sentiment_scores,\n",
    "    'Sentiment_Magnitude': sentiment_magnitudes\n",
    "})\n",
    "\n",
    "# Sort by date descending\n",
    "sentiment_df = sentiment_df.sort('Date', descending=True)"
   ]
  }
 ],
 "metadata": {
  "kernelspec": {
   "display_name": "Python 3",
   "language": "python",
   "name": "python3"
  },
  "language_info": {
   "codemirror_mode": {
    "name": "ipython",
    "version": 3
   },
   "file_extension": ".py",
   "mimetype": "text/x-python",
   "name": "python",
   "nbconvert_exporter": "python",
   "pygments_lexer": "ipython3",
   "version": "3.12.0"
  }
 },
 "nbformat": 4,
 "nbformat_minor": 2
}
